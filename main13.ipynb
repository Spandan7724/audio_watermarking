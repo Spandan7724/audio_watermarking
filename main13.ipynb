{
 "cells": [
  {
   "cell_type": "code",
   "execution_count": 2,
   "metadata": {},
   "outputs": [
    {
     "name": "stdout",
     "output_type": "stream",
     "text": [
      "Using device: cuda\n"
     ]
    }
   ],
   "source": [
    "import os\n",
    "import glob\n",
    "import random\n",
    "import numpy as np\n",
    "\n",
    "import torch\n",
    "import torch.nn as nn\n",
    "import torch.nn.functional as F\n",
    "import torch.optim as optim\n",
    "\n",
    "import torchaudio\n",
    "from torch.utils.data import Dataset, DataLoader, random_split\n",
    "from tqdm import tqdm\n",
    "import matplotlib.pyplot as plt\n",
    "from torch.amp import autocast, GradScaler\n",
    "# Fix random seeds for reproducibility\n",
    "def set_seed(seed=42):\n",
    "    random.seed(seed)\n",
    "    np.random.seed(seed)\n",
    "    torch.manual_seed(seed)\n",
    "    torch.cuda.manual_seed_all(seed)\n",
    "\n",
    "set_seed(42)\n",
    "\n",
    "# ---------------------- Hyperparameters ---------------------- #\n",
    "SAMPLE_RATE = 16000   # Audio sample rate\n",
    "AUDIO_LEN   = 16000   # 1-second audio (16k samples)\n",
    "BATCH_SIZE  = 256      # Batch size for training\n",
    "LR          = 1e-3    # Learning rate\n",
    "\n",
    "HIDDEN_DIM  = 32      # Hidden dimension for LSTM in Generator\n",
    "CHANNELS    = 32      # Initial convolution channels\n",
    "OUTPUT_CH   = 128     # Final conv channels for Generator\n",
    "STRIDES     = [2, 4, 5, 8]  # Downsampling strides\n",
    "LSTM_LAYERS = 2       # Number of LSTM layers\n",
    "NUM_WORKERS = 16       # DataLoader workers\n",
    "\n",
    "# Loss Weights for this Phase 1 (Generator-only)\n",
    "lambda_L1     = 1.0\n",
    "lambda_msspec = 1.0\n",
    "lambda_loud   = 0.5\n",
    "torch.backends.cudnn.benchmark = True\n",
    "torch.set_float32_matmul_precision('high')\n",
    "# Device\n",
    "device = torch.device(\"cuda\" if torch.cuda.is_available() else \"cpu\")\n",
    "print(\"Using device:\", device)\n"
   ]
  },
  {
   "cell_type": "code",
   "execution_count": 3,
   "metadata": {},
   "outputs": [],
   "source": [
    "class OneSecClipsDataset(Dataset):\n",
    "    \"\"\"\n",
    "    Assumes each .wav file in root_dir is a ~1-sec clip (16k samples).\n",
    "    If sample_rate != 16000, it resamples to 16k.\n",
    "    \"\"\"\n",
    "    def __init__(self, root_dir, sample_rate=SAMPLE_RATE):\n",
    "        super().__init__()\n",
    "        self.filepaths = glob.glob(os.path.join(root_dir, '**', '*.wav'), recursive=True)\n",
    "        self.sample_rate = sample_rate\n",
    "\n",
    "    def __len__(self):\n",
    "        return len(self.filepaths)\n",
    "\n",
    "    def __getitem__(self, idx):\n",
    "        wav_path = self.filepaths[idx]\n",
    "        waveform, sr = torchaudio.load(wav_path)\n",
    "\n",
    "        # Convert to mono if multi-channel\n",
    "        if waveform.shape[0] > 1:\n",
    "            waveform = waveform.mean(dim=0, keepdim=True)\n",
    "\n",
    "        # Resample if needed\n",
    "        if sr != self.sample_rate:\n",
    "            resampler = torchaudio.transforms.Resample(orig_freq=sr, new_freq=self.sample_rate)\n",
    "            waveform = resampler(waveform)\n",
    "\n",
    "        # Ensure the clip is 1 second (pad/crop if necessary)\n",
    "        if waveform.shape[1] > AUDIO_LEN:\n",
    "            waveform = waveform[:, :AUDIO_LEN]\n",
    "        elif waveform.shape[1] < AUDIO_LEN:\n",
    "            pad_amt = AUDIO_LEN - waveform.shape[1]\n",
    "            waveform = F.pad(waveform, (0, pad_amt))\n",
    "\n",
    "        return waveform  # shape: (1, AUDIO_LEN)\n",
    "\n",
    "def watermark_masking_augmentation(wav, p_replace_orig=0.4, p_replace_zero=0.2, p_replace_diff=0.2):\n",
    "    \"\"\"\n",
    "    Randomly masks portions of the audio:\n",
    "    - p_replace_orig: do nothing\n",
    "    - p_replace_zero: replace segment with zeros\n",
    "    - p_replace_diff: replace segment with random noise\n",
    "    \"\"\"\n",
    "    T = wav.shape[1]\n",
    "    window_len = int(0.1 * SAMPLE_RATE)\n",
    "    k = 5\n",
    "    for _ in range(k):\n",
    "        start = random.randint(0, T - window_len)\n",
    "        end = start + window_len\n",
    "        choice = random.random()\n",
    "        if choice < p_replace_orig:\n",
    "            pass\n",
    "        elif choice < p_replace_orig + p_replace_zero:\n",
    "            wav[:, start:end] = 0.0\n",
    "        elif choice < p_replace_orig + p_replace_zero + p_replace_diff:\n",
    "            wav[:, start:end] = 0.1 * torch.randn_like(wav[:, start:end])\n",
    "        else:\n",
    "            pass\n",
    "    return wav\n",
    "\n",
    "def robustness_augmentations(wav):\n",
    "    \"\"\"\n",
    "    Adds small random noise for robustness.\n",
    "    \"\"\"\n",
    "    return wav + 0.005 * torch.randn_like(wav)\n"
   ]
  },
  {
   "cell_type": "code",
   "execution_count": 4,
   "metadata": {},
   "outputs": [],
   "source": [
    "def make_conv1d(in_ch, out_ch, kernel_size=3, stride=1, padding=1):\n",
    "    return nn.Conv1d(in_ch, out_ch, kernel_size, stride=stride, padding=padding)\n",
    "\n",
    "class ResidualBlock(nn.Module):\n",
    "    def __init__(self, in_ch, out_ch, stride=1):\n",
    "        super().__init__()\n",
    "        self.downsample = (stride != 1 or in_ch != out_ch)\n",
    "        self.conv1 = make_conv1d(in_ch, out_ch, kernel_size=3, stride=stride, padding=1)\n",
    "        self.conv2 = make_conv1d(out_ch, out_ch, kernel_size=3, stride=1, padding=1)\n",
    "        self.elu   = nn.ELU()\n",
    "        if self.downsample:\n",
    "            self.skip_conv = make_conv1d(in_ch, out_ch, kernel_size=1, stride=stride, padding=0)\n",
    "\n",
    "    def forward(self, x):\n",
    "        residual = x\n",
    "        out = self.elu(self.conv1(x))\n",
    "        out = self.conv2(out)\n",
    "        if self.downsample:\n",
    "            residual = self.skip_conv(residual)\n",
    "        out = self.elu(out + residual)\n",
    "        return out\n",
    "\n",
    "class Generator(nn.Module):\n",
    "    def __init__(self, \n",
    "                 in_channels=1, \n",
    "                 base_channels=CHANNELS,\n",
    "                 hidden_dim=HIDDEN_DIM, \n",
    "                 output_channels=OUTPUT_CH, \n",
    "                 strides=STRIDES):\n",
    "        super().__init__()\n",
    "        \n",
    "        # ---------- Encoder ----------\n",
    "        self.init_conv = nn.Conv1d(in_channels, base_channels, kernel_size=7, stride=1, padding=3)\n",
    "        \n",
    "        enc_blocks = []\n",
    "        ch = base_channels\n",
    "        for st in strides:\n",
    "            out_ch = ch * 2\n",
    "            enc_blocks.append(ResidualBlock(ch, out_ch, stride=st))\n",
    "            ch = out_ch\n",
    "        self.encoder_blocks = nn.Sequential(*enc_blocks)\n",
    "\n",
    "        # Project encoder output to hidden_dim (for LSTM)\n",
    "        self.proj = nn.Linear(ch, hidden_dim)\n",
    "\n",
    "        # LSTM\n",
    "        self.lstm = nn.LSTM(input_size=hidden_dim, hidden_size=hidden_dim, \n",
    "                            num_layers=LSTM_LAYERS, batch_first=True, bidirectional=False)\n",
    "\n",
    "        self.final_conv_enc = nn.Conv1d(hidden_dim, output_channels, kernel_size=7, stride=1, padding=3)\n",
    "\n",
    "        # ---------- Decoder ----------\n",
    "        dec_blocks = []\n",
    "        rev_strides = list(reversed(strides))\n",
    "        in_ch = output_channels\n",
    "        for st in rev_strides:\n",
    "            out_ch = in_ch // 2\n",
    "            dec_blocks.append(nn.ConvTranspose1d(in_ch, out_ch, kernel_size=2*st, stride=st,\n",
    "                                                 padding=(st//2), output_padding=0))\n",
    "            dec_blocks.append(ResidualBlock(out_ch, out_ch, stride=1))\n",
    "            in_ch = out_ch\n",
    "        self.decoder_blocks = nn.Sequential(*dec_blocks)\n",
    "\n",
    "        # Final conv -> 1 channel for the delta\n",
    "        self.final_conv_dec = nn.Conv1d(in_ch, 1, kernel_size=7, stride=1, padding=3)\n",
    "\n",
    "    def forward(self, s):\n",
    "        \"\"\"\n",
    "        s: shape (B, 1, T)\n",
    "        Output: delta (B, 1, T)\n",
    "        \"\"\"\n",
    "        B, _, T = s.shape\n",
    "\n",
    "        # Encode\n",
    "        x = self.init_conv(s)\n",
    "        x = self.encoder_blocks(x)  \n",
    "        x_t = x.transpose(1, 2)     # (B, T_enc, ch)\n",
    "        x_t = self.proj(x_t)        # (B, T_enc, hidden_dim)\n",
    "\n",
    "        # LSTM\n",
    "        lstm_out, _ = self.lstm(x_t)           # (B, T_enc, hidden_dim)\n",
    "        lstm_out_t = lstm_out.transpose(1, 2)  # (B, hidden_dim, T_enc)\n",
    "        latent = self.final_conv_enc(lstm_out_t)\n",
    "\n",
    "        # Decode\n",
    "        x_dec = self.decoder_blocks(latent)\n",
    "        delta = self.final_conv_dec(x_dec)\n",
    "\n",
    "        # Adjust shape if needed\n",
    "        if delta.shape[-1] != T:\n",
    "            min_len = min(delta.shape[-1], T)\n",
    "            delta = delta[:, :, :min_len]\n",
    "            if min_len < T:\n",
    "                pad_amt = T - min_len\n",
    "                delta = F.pad(delta, (0, pad_amt))\n",
    "\n",
    "        return delta\n"
   ]
  },
  {
   "cell_type": "code",
   "execution_count": 5,
   "metadata": {},
   "outputs": [],
   "source": [
    "import torchaudio.transforms as T\n",
    "\n",
    "class SimpleMelLoss(nn.Module):\n",
    "    def __init__(self, sample_rate=SAMPLE_RATE, n_fft=1024, n_mels=80):\n",
    "        super(SimpleMelLoss, self).__init__()\n",
    "        self.mel_spec = T.MelSpectrogram(\n",
    "            sample_rate=sample_rate,\n",
    "            n_fft=n_fft,\n",
    "            hop_length=n_fft // 4,\n",
    "            n_mels=n_mels,\n",
    "            normalized=True\n",
    "        )\n",
    "        \n",
    "    def forward(self, original, watermarked):\n",
    "        mel_orig = torch.log(self.mel_spec(original) + 1e-5)\n",
    "        mel_wm   = torch.log(self.mel_spec(watermarked) + 1e-5)\n",
    "        return F.l1_loss(mel_orig, mel_wm)\n",
    "\n",
    "class TFLoudnessLoss(nn.Module):\n",
    "    def __init__(self, n_bands=8, window_size=2048, hop_size=512):\n",
    "        super(TFLoudnessLoss, self).__init__()\n",
    "        self.n_bands = n_bands\n",
    "        self.win_size = window_size\n",
    "        self.hop_size = hop_size\n",
    "        \n",
    "        weights = torch.ones(n_bands)\n",
    "        mid_band_idx = n_bands // 3\n",
    "        weights[mid_band_idx:2 * mid_band_idx] = 1.5\n",
    "        self.register_buffer('band_weights', weights)\n",
    "\n",
    "    def forward(self, original, watermarked):\n",
    "        window = torch.hann_window(self.win_size, device=original.device)\n",
    "        stft_orig = torch.stft(\n",
    "            original.squeeze(1), n_fft=self.win_size, hop_length=self.hop_size,\n",
    "            window=window, return_complex=True, normalized=True\n",
    "        )\n",
    "        stft_wm = torch.stft(\n",
    "            watermarked.squeeze(1), n_fft=self.win_size, hop_length=self.hop_size,\n",
    "            window=window, return_complex=True, normalized=True\n",
    "        )\n",
    "        mag_orig = stft_orig.abs()\n",
    "        mag_wm   = stft_wm.abs()\n",
    "        phase_orig = stft_orig.angle()\n",
    "        phase_wm   = stft_wm.angle()\n",
    "        \n",
    "        freq_bins = mag_orig.shape[1]\n",
    "        band_size = freq_bins // self.n_bands\n",
    "        \n",
    "        loudness_loss = 0.0\n",
    "        spectral_loss = 0.0\n",
    "        phase_loss = 0.0\n",
    "        \n",
    "        for b in range(self.n_bands):\n",
    "            start = b * band_size\n",
    "            end = freq_bins if (b == self.n_bands - 1) else (start + band_size)\n",
    "            band_orig = mag_orig[:, start:end, :]\n",
    "            band_wm = mag_wm[:, start:end, :]\n",
    "            \n",
    "            energy_orig = torch.sum(band_orig ** 2, dim=1)\n",
    "            energy_wm = torch.sum(band_wm ** 2, dim=1)\n",
    "            loud_orig = torch.log10(energy_orig + 1e-8)\n",
    "            loud_wm   = torch.log10(energy_wm + 1e-8)\n",
    "            loudness_loss += self.band_weights[b] * F.l1_loss(loud_wm, loud_orig)\n",
    "            spectral_loss += self.band_weights[b] * F.mse_loss(band_wm, band_orig)\n",
    "            phase_diff = 1.0 - torch.cos(phase_wm[:, start:end, :] - phase_orig[:, start:end, :])\n",
    "            phase_loss += self.band_weights[b] * phase_diff.mean()\n",
    "        \n",
    "        loudness_loss /= self.n_bands\n",
    "        spectral_loss /= self.n_bands\n",
    "        phase_loss /= self.n_bands\n",
    "        \n",
    "        return loudness_loss + spectral_loss + 0.2 * phase_loss\n"
   ]
  },
  {
   "cell_type": "code",
   "execution_count": 6,
   "metadata": {},
   "outputs": [],
   "source": [
    "def train_generator(\n",
    "    generator,\n",
    "    train_ds,\n",
    "    val_ds,\n",
    "    device,\n",
    "    num_epochs=10,\n",
    "    lr=1e-3,\n",
    "    lambda_L1=1.0,\n",
    "    lambda_msspec=1.0,\n",
    "    lambda_loud=0.5,\n",
    "    use_robustness=False\n",
    "):\n",
    "    \"\"\"\n",
    "    Trains only the Generator (no adversarial or detector), \n",
    "    with a separate validation set. \n",
    "    Prints sub-losses for each batch in train, \n",
    "    and average sub-losses in validation each epoch.\n",
    "\n",
    "    Args:\n",
    "        generator: (nn.Module) The generator model\n",
    "        train_ds: training dataset\n",
    "        val_ds: validation dataset\n",
    "        device: 'cpu' or 'cuda'\n",
    "        num_epochs: int\n",
    "        lr: float, learning rate\n",
    "        lambda_L1, lambda_msspec, lambda_loud: weighting factors\n",
    "        use_robustness: bool, whether to apply segment masking/noise in training\n",
    "    \"\"\"\n",
    "    # Create DataLoaders\n",
    "    train_loader = DataLoader(train_ds, batch_size=BATCH_SIZE, shuffle=True, num_workers=NUM_WORKERS,pin_memory=True)\n",
    "    val_loader   = DataLoader(val_ds,   batch_size=BATCH_SIZE, shuffle=False, num_workers=NUM_WORKERS,pin_memory=True)\n",
    "\n",
    "    optimizer = optim.Adam(generator.parameters(), lr=lr)\n",
    "    generator.train()\n",
    "\n",
    "    ms_mel_loss_fn = SimpleMelLoss().to(device)\n",
    "    tf_loud_loss_fn = TFLoudnessLoss().to(device)\n",
    "    \n",
    "    scaler = torch.amp.GradScaler('cuda')\n",
    "    \n",
    "\n",
    "    for epoch in range(1, num_epochs+1):\n",
    "        # ------------------- TRAINING LOOP ------------------- #\n",
    "        generator.train()\n",
    "        train_pbar = tqdm(train_loader, desc=f\"[Epoch {epoch}/{num_epochs} - Train]\", leave=True)\n",
    "        \n",
    "        running_l1, running_mel, running_loud, running_total = 0.0, 0.0, 0.0, 0.0\n",
    "        num_batches = len(train_loader)\n",
    "\n",
    "        for batch_data in train_pbar:\n",
    "            s = batch_data.to(device)  # (B,1,T)\n",
    "            optimizer.zero_grad()            \n",
    "            with torch.amp.autocast('cuda'):\n",
    "                # Forward pass\n",
    "                delta = generator(s)\n",
    "                s_w = s + delta\n",
    "\n",
    "                if use_robustness:\n",
    "                    for i in range(s_w.shape[0]):\n",
    "                        s_w[i] = watermark_masking_augmentation(s_w[i])\n",
    "                        s_w[i] = robustness_augmentations(s_w[i])\n",
    "\n",
    "                loss_l1 = F.l1_loss(delta, torch.zeros_like(delta))\n",
    "                loss_mel = ms_mel_loss_fn(s, s_w)\n",
    "                loss_loud = tf_loud_loss_fn(s, s_w)\n",
    "\n",
    "                loss_total = (lambda_L1 * loss_l1 +\n",
    "                              lambda_msspec * loss_mel +\n",
    "                              lambda_loud * loss_loud)\n",
    "\n",
    "            # Scale loss and backpropagate\n",
    "            scaler.scale(loss_total).backward()\n",
    "            scaler.step(optimizer)\n",
    "            scaler.update()\n",
    "\n",
    "            running_l1    += loss_l1.item()\n",
    "            running_mel   += loss_mel.item()\n",
    "            running_loud  += loss_loud.item()\n",
    "            running_total += loss_total.item()\n",
    "\n",
    "            train_pbar.set_postfix({\n",
    "                \"L1\": f\"{loss_l1.item():.4f}\",\n",
    "                \"Mel\": f\"{loss_mel.item():.4f}\",\n",
    "                \"Loud\": f\"{loss_loud.item():.4f}\",\n",
    "                \"Total\": f\"{loss_total.item():.4f}\"\n",
    "            })\n",
    "\n",
    "        avg_l1    = running_l1 / num_batches\n",
    "        avg_mel   = running_mel / num_batches\n",
    "        avg_loud  = running_loud / num_batches\n",
    "        avg_total = running_total / num_batches\n",
    "\n",
    "        # Validation loop (no gradients, so autocast can be used without GradScaler)\n",
    "        generator.eval()\n",
    "        val_pbar = tqdm(val_loader, desc=\"[Validation]\", leave=False)\n",
    "        \n",
    "        val_l1, val_mel, val_loud, val_total = 0.0, 0.0, 0.0, 0.0\n",
    "        val_steps = 0\n",
    "\n",
    "        with torch.no_grad():\n",
    "            for batch_data in val_pbar:\n",
    "                s_val = batch_data.to(device)\n",
    "                with torch.amp.autocast('cuda'):\n",
    "                    delta_val = generator(s_val)\n",
    "                    s_w_val   = s_val + delta_val\n",
    "\n",
    "                    l1_val   = F.l1_loss(delta_val, torch.zeros_like(delta_val))\n",
    "                    mel_val  = ms_mel_loss_fn(s_val, s_w_val)\n",
    "                    loud_val = tf_loud_loss_fn(s_val, s_w_val)\n",
    "                    total_val = (lambda_L1 * l1_val +\n",
    "                                 lambda_msspec * mel_val +\n",
    "                                 lambda_loud * loud_val)\n",
    "\n",
    "                val_l1    += l1_val.item()\n",
    "                val_mel   += mel_val.item()\n",
    "                val_loud  += loud_val.item()\n",
    "                val_total += total_val.item()\n",
    "                val_steps += 1\n",
    "\n",
    "        if val_steps > 0:\n",
    "            val_l1    /= val_steps\n",
    "            val_mel   /= val_steps\n",
    "            val_loud  /= val_steps\n",
    "            val_total /= val_steps\n",
    "\n",
    "        print(f\"\\nEpoch [{epoch}/{num_epochs}] Summary:\")\n",
    "        print(f\"  Train => L1: {avg_l1:.4f}, Mel: {avg_mel:.4f}, Loud: {avg_loud:.4f}, Total: {avg_total:.4f}\")\n",
    "        print(f\"  Valid => L1: {val_l1:.4f}, Mel: {val_mel:.4f}, Loud: {val_loud:.4f}, Total: {val_total:.4f}\\n\")\n",
    "\n",
    "    print(\"Generator-only training with validation complete.\")\n"
   ]
  },
  {
   "cell_type": "code",
   "execution_count": 7,
   "metadata": {},
   "outputs": [],
   "source": [
    "def evaluate_si_snr_torch(original, reconstructed, eps=1e-8):\n",
    "    if original.dim() == 3:\n",
    "        original = original.squeeze(1)\n",
    "    if reconstructed.dim() == 3:\n",
    "        reconstructed = reconstructed.squeeze(1)\n",
    "    \n",
    "    original_zm = original - original.mean(dim=1, keepdim=True)\n",
    "    recon_zm    = reconstructed - reconstructed.mean(dim=1, keepdim=True)\n",
    "    \n",
    "    dot = (original_zm * recon_zm).sum(dim=1, keepdim=True)\n",
    "    norm_sq = (original_zm ** 2).sum(dim=1, keepdim=True) + eps\n",
    "    alpha = dot / norm_sq\n",
    "    \n",
    "    s_target = alpha * original_zm\n",
    "    e_noise = recon_zm - s_target\n",
    "    si_snr_val = 10 * torch.log10((s_target ** 2).sum(dim=1) / ((e_noise ** 2).sum(dim=1) + eps))\n",
    "    return si_snr_val\n",
    "\n",
    "\n",
    "def run_evaluation_generator_only(generator, dataset, device, batch_size=16):\n",
    "    \"\"\"\n",
    "    Evaluate how much the generator changes the audio \n",
    "    by measuring SI-SNR or any custom metric.\n",
    "    \"\"\"\n",
    "    loader = DataLoader(dataset, batch_size=batch_size, shuffle=False)\n",
    "    generator.eval()\n",
    "\n",
    "    si_snr_vals = []\n",
    "\n",
    "    with torch.no_grad():\n",
    "        for s in loader:\n",
    "            s = s.to(device)  # (B,1,T)\n",
    "            delta = generator(s)\n",
    "            s_w = s + delta\n",
    "\n",
    "            # measure SI-SNR\n",
    "            vals = evaluate_si_snr_torch(s, s_w).cpu().numpy()\n",
    "            si_snr_vals.extend(vals)\n",
    "    \n",
    "    avg_si_snr = float(np.mean(si_snr_vals)) if si_snr_vals else 0.0\n",
    "    return avg_si_snr\n"
   ]
  },
  {
   "cell_type": "code",
   "execution_count": null,
   "metadata": {},
   "outputs": [],
   "source": [
    "# if __name__ == \"__main__\":\n",
    "#     # Step 1: Create dataset from your data directory\n",
    "#     data_root = \"data/200_speech_only\"  # Example path\n",
    "#     full_dataset = OneSecClipsDataset(root_dir=data_root, sample_rate=SAMPLE_RATE)\n",
    "\n",
    "#     # Step 2: Possibly pick a subset for demonstration\n",
    "#     subset_size = 2000\n",
    "#     subset_indices = list(range(min(subset_size, len(full_dataset))))\n",
    "#     subset_dataset = torch.utils.data.Subset(full_dataset, subset_indices)\n",
    "\n",
    "#     # Step 3: Split into train / val\n",
    "#     n = len(subset_dataset)\n",
    "#     n_train = int(0.9 * n)\n",
    "#     n_val   = n - n_train\n",
    "#     train_ds, val_ds = random_split(subset_dataset, [n_train, n_val])\n",
    "\n",
    "#     print(f\"Train set size: {len(train_ds)}, Val set size: {len(val_ds)}\")\n",
    "\n",
    "#     # Step 4: Instantiate Generator\n",
    "#     generator = Generator().to(device)\n",
    "\n",
    "#     # Step 5: Train the generator with validation \n",
    "#     # and detailed sub-loss printing\n",
    "#     train_generator(\n",
    "#         generator=generator,\n",
    "#         train_ds=train_ds,\n",
    "#         val_ds=val_ds,\n",
    "#         device=device,\n",
    "#         num_epochs=10,     # or more\n",
    "#         lr=LR,\n",
    "#         lambda_L1=lambda_L1,\n",
    "#         lambda_msspec=lambda_msspec,\n",
    "#         lambda_loud=lambda_loud,\n",
    "#         use_robustness=False  # Set True if you want random masking/noise\n",
    "#     )\n",
    "\n",
    "#     # Step 6: Save the generator\n",
    "#     torch.save(generator.state_dict(), \"generator.pth\")\n",
    "#     print(\"Generator (Phase 1) training done and saved.\")\n"
   ]
  },
  {
   "cell_type": "code",
   "execution_count": 10,
   "metadata": {},
   "outputs": [
    {
     "name": "stdout",
     "output_type": "stream",
     "text": [
      "Train set size: 306964, Val set size: 76741\n"
     ]
    },
    {
     "name": "stderr",
     "output_type": "stream",
     "text": [
      "[Epoch 1/10 - Train]: 100%|██████████| 1200/1200 [05:48<00:00,  3.45it/s, L1=0.0028, Mel=0.0358, Loud=0.0691, Total=0.0732]\n",
      "[Validation]:   0%|          | 0/300 [00:00<?, ?it/s]W0314 14:12:45.729000 8857 torch/_dynamo/convert_frame.py:844] [1/8] torch._dynamo hit config.cache_size_limit (8)\n",
      "W0314 14:12:45.729000 8857 torch/_dynamo/convert_frame.py:844] [1/8]    function: 'forward' (/tmp/ipykernel_8857/1045307349.py:14)\n",
      "W0314 14:12:45.729000 8857 torch/_dynamo/convert_frame.py:844] [1/8]    last reason: 1/0: GLOBAL_STATE changed: grad_mode \n",
      "W0314 14:12:45.729000 8857 torch/_dynamo/convert_frame.py:844] [1/8] To log all recompilation reasons, use TORCH_LOGS=\"recompiles\".\n",
      "W0314 14:12:45.729000 8857 torch/_dynamo/convert_frame.py:844] [1/8] To diagnose recompilation issues, see https://pytorch.org/docs/main/torch.compiler_troubleshooting.html.\n",
      "                                                               \r"
     ]
    },
    {
     "name": "stdout",
     "output_type": "stream",
     "text": [
      "\n",
      "Epoch [1/10] Summary:\n",
      "  Train => L1: 0.0062, Mel: 0.0487, Loud: 0.2486, Total: 0.1793\n",
      "  Valid => L1: 0.0031, Mel: 0.0297, Loud: 0.0644, Total: 0.0649\n",
      "\n"
     ]
    },
    {
     "name": "stderr",
     "output_type": "stream",
     "text": [
      "[Epoch 2/10 - Train]: 100%|██████████| 1200/1200 [05:38<00:00,  3.55it/s, L1=0.0004, Mel=0.0064, Loud=0.0374, Total=0.0255]\n",
      "                                                               \r"
     ]
    },
    {
     "name": "stdout",
     "output_type": "stream",
     "text": [
      "\n",
      "Epoch [2/10] Summary:\n",
      "  Train => L1: 0.0019, Mel: 0.0200, Loud: 0.0561, Total: 0.0500\n",
      "  Valid => L1: 0.0009, Mel: 0.0137, Loud: 0.0446, Total: 0.0369\n",
      "\n"
     ]
    },
    {
     "name": "stderr",
     "output_type": "stream",
     "text": [
      "[Epoch 3/10 - Train]: 100%|██████████| 1200/1200 [05:38<00:00,  3.54it/s, L1=0.0007, Mel=0.0104, Loud=0.0693, Total=0.0457]\n",
      "                                                               \r"
     ]
    },
    {
     "name": "stdout",
     "output_type": "stream",
     "text": [
      "\n",
      "Epoch [3/10] Summary:\n",
      "  Train => L1: 0.0010, Mel: 0.0131, Loud: 0.0434, Total: 0.0358\n",
      "  Valid => L1: 0.0012, Mel: 0.0163, Loud: 0.0508, Total: 0.0429\n",
      "\n"
     ]
    },
    {
     "name": "stderr",
     "output_type": "stream",
     "text": [
      "[Epoch 4/10 - Train]: 100%|██████████| 1200/1200 [05:38<00:00,  3.54it/s, L1=0.0010, Mel=0.0147, Loud=0.0342, Total=0.0329]\n",
      "                                                               \r"
     ]
    },
    {
     "name": "stdout",
     "output_type": "stream",
     "text": [
      "\n",
      "Epoch [4/10] Summary:\n",
      "  Train => L1: 0.0007, Mel: 0.0109, Loud: 0.0399, Total: 0.0316\n",
      "  Valid => L1: 0.0010, Mel: 0.0142, Loud: 0.0418, Total: 0.0360\n",
      "\n"
     ]
    },
    {
     "name": "stderr",
     "output_type": "stream",
     "text": [
      "[Epoch 5/10 - Train]: 100%|██████████| 1200/1200 [05:38<00:00,  3.54it/s, L1=0.0001, Mel=0.0039, Loud=0.0466, Total=0.0274]\n",
      "                                                               \r"
     ]
    },
    {
     "name": "stdout",
     "output_type": "stream",
     "text": [
      "\n",
      "Epoch [5/10] Summary:\n",
      "  Train => L1: 0.0005, Mel: 0.0082, Loud: 0.0536, Total: 0.0354\n",
      "  Valid => L1: 0.0005, Mel: 0.0072, Loud: 0.0177, Total: 0.0165\n",
      "\n"
     ]
    },
    {
     "name": "stderr",
     "output_type": "stream",
     "text": [
      "[Epoch 6/10 - Train]: 100%|██████████| 1200/1200 [05:38<00:00,  3.55it/s, L1=0.0002, Mel=0.0041, Loud=0.0528, Total=0.0308]\n",
      "                                                               \r"
     ]
    },
    {
     "name": "stdout",
     "output_type": "stream",
     "text": [
      "\n",
      "Epoch [6/10] Summary:\n",
      "  Train => L1: 0.0005, Mel: 0.0077, Loud: 0.0333, Total: 0.0249\n",
      "  Valid => L1: 0.0005, Mel: 0.0084, Loud: 0.0390, Total: 0.0284\n",
      "\n"
     ]
    },
    {
     "name": "stderr",
     "output_type": "stream",
     "text": [
      "[Epoch 7/10 - Train]: 100%|██████████| 1200/1200 [05:38<00:00,  3.55it/s, L1=nan, Mel=nan, Loud=nan, Total=nan]           \n",
      "                                                               \r"
     ]
    },
    {
     "name": "stdout",
     "output_type": "stream",
     "text": [
      "\n",
      "Epoch [7/10] Summary:\n",
      "  Train => L1: nan, Mel: nan, Loud: nan, Total: nan\n",
      "  Valid => L1: nan, Mel: nan, Loud: nan, Total: nan\n",
      "\n"
     ]
    },
    {
     "name": "stderr",
     "output_type": "stream",
     "text": [
      "[Epoch 8/10 - Train]: 100%|██████████| 1200/1200 [05:37<00:00,  3.56it/s, L1=nan, Mel=nan, Loud=nan, Total=nan]\n",
      "                                                               \r"
     ]
    },
    {
     "name": "stdout",
     "output_type": "stream",
     "text": [
      "\n",
      "Epoch [8/10] Summary:\n",
      "  Train => L1: nan, Mel: nan, Loud: nan, Total: nan\n",
      "  Valid => L1: nan, Mel: nan, Loud: nan, Total: nan\n",
      "\n"
     ]
    },
    {
     "name": "stderr",
     "output_type": "stream",
     "text": [
      "[Epoch 9/10 - Train]: 100%|██████████| 1200/1200 [05:37<00:00,  3.56it/s, L1=nan, Mel=nan, Loud=nan, Total=nan]\n",
      "                                                               \r"
     ]
    },
    {
     "name": "stdout",
     "output_type": "stream",
     "text": [
      "\n",
      "Epoch [9/10] Summary:\n",
      "  Train => L1: nan, Mel: nan, Loud: nan, Total: nan\n",
      "  Valid => L1: nan, Mel: nan, Loud: nan, Total: nan\n",
      "\n"
     ]
    },
    {
     "name": "stderr",
     "output_type": "stream",
     "text": [
      "[Epoch 10/10 - Train]: 100%|██████████| 1200/1200 [05:37<00:00,  3.56it/s, L1=nan, Mel=nan, Loud=nan, Total=nan]\n",
      "                                                               "
     ]
    },
    {
     "name": "stdout",
     "output_type": "stream",
     "text": [
      "\n",
      "Epoch [10/10] Summary:\n",
      "  Train => L1: nan, Mel: nan, Loud: nan, Total: nan\n",
      "  Valid => L1: nan, Mel: nan, Loud: nan, Total: nan\n",
      "\n",
      "Generator-only training with validation complete.\n",
      "Generator (Phase 1) training done and saved.\n"
     ]
    },
    {
     "name": "stderr",
     "output_type": "stream",
     "text": [
      "\r"
     ]
    }
   ],
   "source": [
    "if __name__ == \"__main__\":\n",
    "    data_root = \"data/200_speech_only\"  \n",
    "    full_dataset = OneSecClipsDataset(root_dir=data_root, sample_rate=SAMPLE_RATE)\n",
    "\n",
    "\n",
    "\n",
    "    n = len(full_dataset)\n",
    "    n_train = int(0.8 * n)\n",
    "    n_val   = n - n_train\n",
    "    train_ds, val_ds = random_split(full_dataset, [n_train, n_val])\n",
    "\n",
    "    print(f\"Train set size: {len(train_ds)}, Val set size: {len(val_ds)}\")\n",
    "\n",
    "    # Step 4: Instantiate Generator\n",
    "    generator = Generator().to(device)\n",
    "    generator = torch.compile(generator)\n",
    "    train_generator(\n",
    "        generator=generator,\n",
    "        train_ds=train_ds,\n",
    "        val_ds=val_ds,\n",
    "        device=device,\n",
    "        num_epochs=10,     \n",
    "        lr=LR,\n",
    "        lambda_L1=lambda_L1,\n",
    "        lambda_msspec=lambda_msspec,\n",
    "        lambda_loud=lambda_loud,\n",
    "        use_robustness=False  # Set True if you want random masking/noise\n",
    "    )\n",
    "\n",
    "    # Step 6: Save the generator\n",
    "\n",
    "    print(\"Generator (Phase 1) training done and saved.\")\n"
   ]
  },
  {
   "cell_type": "code",
   "execution_count": 11,
   "metadata": {},
   "outputs": [
    {
     "name": "stdout",
     "output_type": "stream",
     "text": [
      "Generator saved as generator.pth.\n"
     ]
    }
   ],
   "source": [
    "torch.save(generator.state_dict(), \"generator.pth\")\n",
    "print(\"Generator saved as generator.pth.\")"
   ]
  },
  {
   "cell_type": "code",
   "execution_count": 25,
   "metadata": {},
   "outputs": [
    {
     "data": {
      "text/plain": [
       "383705"
      ]
     },
     "execution_count": 25,
     "metadata": {},
     "output_type": "execute_result"
    }
   ],
   "source": [
    "len(full_dataset)\n"
   ]
  },
  {
   "cell_type": "code",
   "execution_count": 26,
   "metadata": {},
   "outputs": [
    {
     "data": {
      "text/plain": [
       "306964"
      ]
     },
     "execution_count": 26,
     "metadata": {},
     "output_type": "execute_result"
    }
   ],
   "source": [
    "len(train_ds)\n"
   ]
  },
  {
   "cell_type": "code",
   "execution_count": 27,
   "metadata": {},
   "outputs": [
    {
     "data": {
      "text/plain": [
       "76741"
      ]
     },
     "execution_count": 27,
     "metadata": {},
     "output_type": "execute_result"
    }
   ],
   "source": [
    "len(val_ds)"
   ]
  },
  {
   "cell_type": "code",
   "execution_count": 24,
   "metadata": {},
   "outputs": [
    {
     "name": "stdout",
     "output_type": "stream",
     "text": [
      "Validation set size: 76741\n"
     ]
    },
    {
     "name": "stderr",
     "output_type": "stream",
     "text": [
      "/tmp/ipykernel_8857/1050755699.py:17: FutureWarning: You are using `torch.load` with `weights_only=False` (the current default value), which uses the default pickle module implicitly. It is possible to construct malicious pickle data which will execute arbitrary code during unpickling (See https://github.com/pytorch/pytorch/blob/main/SECURITY.md#untrusted-models for more details). In a future release, the default value for `weights_only` will be flipped to `True`. This limits the functions that could be executed during unpickling. Arbitrary objects will no longer be allowed to be loaded via this mode unless they are explicitly allowlisted by the user via `torch.serialization.add_safe_globals`. We recommend you start setting `weights_only=True` for any use case where you don't have full control of the loaded file. Please open an issue on GitHub for any issues related to this experimental feature.\n",
      "  state_dict = torch.load(\"generator.pth\", map_location=device)\n"
     ]
    },
    {
     "name": "stdout",
     "output_type": "stream",
     "text": [
      "Average SI-SNR on Validation Set: 50.309 dB\n"
     ]
    },
    {
     "data": {
      "image/png": "[encoded data removed]",
      "text/plain": [
       "<Figure size 1000x1000 with 10 Axes>"
      ]
     },
     "metadata": {},
     "output_type": "display_data"
    }
   ],
   "source": [
    "if __name__ == \"__main__\":\n",
    "    # Define the data root and create the full dataset\n",
    "    data_root = \"data/200_speech_only\"\n",
    "    full_dataset = OneSecClipsDataset(root_dir=data_root, sample_rate=SAMPLE_RATE)\n",
    "    \n",
    "    # Split the dataset into training and validation (80/20 split)\n",
    "    n = len(full_dataset)\n",
    "    n_train = int(0.8 * n)\n",
    "    n_val = n - n_train\n",
    "    _, val_ds = random_split(full_dataset, [n_train, n_val])\n",
    "    print(f\"Validation set size: {len(val_ds)}\")\n",
    "    \n",
    "    # Instantiate the generator and move it to the appropriate device\n",
    "    generator = Generator().to(device)\n",
    "    \n",
    "    # Load the state dictionary and remove the \"_orig_mod.\" prefix if it exists\n",
    "    state_dict = torch.load(\"generator.pth\", map_location=device)\n",
    "    new_state_dict = {}\n",
    "    for key, value in state_dict.items():\n",
    "        if key.startswith(\"_orig_mod.\"):\n",
    "            new_key = key[len(\"_orig_mod.\"):]\n",
    "        else:\n",
    "            new_key = key\n",
    "        new_state_dict[new_key] = value\n",
    "    generator.load_state_dict(new_state_dict)\n",
    "    generator.eval()  # Set the model to evaluation mode\n",
    "    \n",
    "    # Evaluate the generator on the validation dataset using SI-SNR metric with a progress bar\n",
    "    avg_si_snr = run_evaluation_generator_only(generator, val_ds, device, batch_size=16)\n",
    "    print(f\"Average SI-SNR on Validation Set: {avg_si_snr:.3f} dB\")\n",
    "    # Optionally, you can visualize some examples\n",
    "    num_samples = 5\n",
    "    indices = random.sample(range(len(val_ds)), num_samples)\n",
    "    fig, axs = plt.subplots(num_samples, 2, figsize=(10, 2*num_samples))\n",
    "    for i, idx in enumerate(indices):\n",
    "        original = val_ds[idx].unsqueeze(0).to(device)  # (1, 1, T)\n",
    "        with torch.no_grad():\n",
    "            delta = generator(original)\n",
    "            watermarked = original + delta\n",
    "\n",
    "        # Plot original and watermarked audio\n",
    "        axs[i, 0].plot(original.squeeze().cpu().numpy())\n",
    "        axs[i, 0].set_title(\"Original Audio\")\n",
    "        axs[i, 1].plot(watermarked.squeeze().cpu().numpy())\n",
    "        axs[i, 1].set_title(\"Watermarked Audio\")\n",
    "    plt.tight_layout()\n",
    "    plt.show()"
   ]
  },
  {
   "cell_type": "code",
   "execution_count": 28,
   "metadata": {},
   "outputs": [
    {
     "name": "stdout",
     "output_type": "stream",
     "text": [
      "Custom test set size: 19704\n"
     ]
    },
    {
     "name": "stderr",
     "output_type": "stream",
     "text": [
      "/tmp/ipykernel_8857/1234409758.py:14: FutureWarning: You are using `torch.load` with `weights_only=False` (the current default value), which uses the default pickle module implicitly. It is possible to construct malicious pickle data which will execute arbitrary code during unpickling (See https://github.com/pytorch/pytorch/blob/main/SECURITY.md#untrusted-models for more details). In a future release, the default value for `weights_only` will be flipped to `True`. This limits the functions that could be executed during unpickling. Arbitrary objects will no longer be allowed to be loaded via this mode unless they are explicitly allowlisted by the user via `torch.serialization.add_safe_globals`. We recommend you start setting `weights_only=True` for any use case where you don't have full control of the loaded file. Please open an issue on GitHub for any issues related to this experimental feature.\n",
      "  state_dict = torch.load(\"generator.pth\", map_location=device)\n"
     ]
    },
    {
     "name": "stdout",
     "output_type": "stream",
     "text": [
      "Average SI-SNR on Custom Test Set: 47.078 dB\n"
     ]
    }
   ],
   "source": [
    "if __name__ == \"__main__\":\n",
    "    # Define the data root paths\n",
    "    data_root = \"data/200_speech_only\"  # Original data root\n",
    "    custom_test_root = \"data/test_5_hours\"  # Your custom test set\n",
    "    \n",
    "    # Create the custom test dataset directly\n",
    "    test_ds = OneSecClipsDataset(root_dir=custom_test_root, sample_rate=SAMPLE_RATE)\n",
    "    print(f\"Custom test set size: {len(test_ds)}\")\n",
    "    \n",
    "    # Instantiate the generator and move it to the appropriate device\n",
    "    generator = Generator().to(device)\n",
    "    \n",
    "    # Load the state dictionary and remove the \"_orig_mod.\" prefix if it exists\n",
    "    state_dict = torch.load(\"generator.pth\", map_location=device)\n",
    "    new_state_dict = {}\n",
    "    for key, value in state_dict.items():\n",
    "        if key.startswith(\"_orig_mod.\"):\n",
    "            new_key = key[len(\"_orig_mod.\"):]\n",
    "        else:\n",
    "            new_key = key\n",
    "        new_state_dict[new_key] = value\n",
    "    generator.load_state_dict(new_state_dict)\n",
    "    generator.eval()  # Set the model to evaluation mode\n",
    "    \n",
    "    # Evaluate the generator on your custom test dataset\n",
    "    avg_si_snr = run_evaluation_generator_only(generator, test_ds, device, batch_size=16)\n",
    "    print(f\"Average SI-SNR on Custom Test Set: {avg_si_snr:.3f} dB\")"
   ]
  },
  {
   "cell_type": "markdown",
   "metadata": {},
   "source": [
    "### <span style=\"color: cyan;\">Inference code</span>"
   ]
  },
  {
   "cell_type": "code",
   "execution_count": 15,
   "metadata": {},
   "outputs": [
    {
     "name": "stdout",
     "output_type": "stream",
     "text": [
      "Loaded generator weights from generator.pth\n",
      "Watermarked audio saved to: watermarked/20180115-0900-PLENARY-7_en_watermarked.ogg\n",
      "SI-SNR for entire file: 50.73 dB\n",
      "Processed data/raw_audios/en/2018/20180115-0900-PLENARY-7_en.ogg -> watermarked/20180115-0900-PLENARY-7_en_watermarked.ogg with SI-SNR: 50.73 dB\n"
     ]
    },
    {
     "name": "stderr",
     "output_type": "stream",
     "text": [
      "/tmp/ipykernel_8857/3710051929.py:21: FutureWarning: You are using `torch.load` with `weights_only=False` (the current default value), which uses the default pickle module implicitly. It is possible to construct malicious pickle data which will execute arbitrary code during unpickling (See https://github.com/pytorch/pytorch/blob/main/SECURITY.md#untrusted-models for more details). In a future release, the default value for `weights_only` will be flipped to `True`. This limits the functions that could be executed during unpickling. Arbitrary objects will no longer be allowed to be loaded via this mode unless they are explicitly allowlisted by the user via `torch.serialization.add_safe_globals`. We recommend you start setting `weights_only=True` for any use case where you don't have full control of the loaded file. Please open an issue on GitHub for any issues related to this experimental feature.\n",
      "  state_dict = torch.load(checkpoint_path, map_location=device)\n"
     ]
    },
    {
     "name": "stdout",
     "output_type": "stream",
     "text": [
      "Watermarked audio saved to: watermarked/20180117-0900-PLENARY-14_en_watermarked.ogg\n",
      "SI-SNR for entire file: 52.44 dB\n",
      "Processed data/raw_audios/en/2018/20180117-0900-PLENARY-14_en.ogg -> watermarked/20180117-0900-PLENARY-14_en_watermarked.ogg with SI-SNR: 52.44 dB\n",
      "Watermarked audio saved to: watermarked/20180117-0900-PLENARY-13_en_watermarked.ogg\n",
      "SI-SNR for entire file: 44.70 dB\n",
      "Processed data/raw_audios/en/2018/20180117-0900-PLENARY-13_en.ogg -> watermarked/20180117-0900-PLENARY-13_en_watermarked.ogg with SI-SNR: 44.70 dB\n",
      "Watermarked audio saved to: watermarked/20180117-0900-PLENARY-12_en_watermarked.ogg\n",
      "SI-SNR for entire file: 43.57 dB\n",
      "Processed data/raw_audios/en/2018/20180117-0900-PLENARY-12_en.ogg -> watermarked/20180117-0900-PLENARY-12_en_watermarked.ogg with SI-SNR: 43.57 dB\n",
      "Watermarked audio saved to: watermarked/20180116-0900-PLENARY-12_en_watermarked.ogg\n",
      "SI-SNR for entire file: 46.87 dB\n",
      "Processed data/raw_audios/en/2018/20180116-0900-PLENARY-12_en.ogg -> watermarked/20180116-0900-PLENARY-12_en_watermarked.ogg with SI-SNR: 46.87 dB\n",
      "Done generating watermarked audio. Check the 'watermarked' directory.\n"
     ]
    }
   ],
   "source": [
    "# import os\n",
    "# import torch\n",
    "# import torchaudio\n",
    "# import torch.nn.functional as F\n",
    "# from tqdm import tqdm\n",
    "\n",
    "# # ---------------------- Global Settings ---------------------- #\n",
    "# SAMPLE_RATE = 16000     # Must match training\n",
    "# AUDIO_LEN   = 16000     # 1 second = 16,000 samples at 16kHz\n",
    "# device = torch.device(\"cuda\" if torch.cuda.is_available() else \"cpu\")\n",
    "\n",
    "# ---------------------- Generator Loading ---------------------- #\n",
    "def load_pretrained_generator(checkpoint_path=\"generator.pth\"):\n",
    "    \"\"\"\n",
    "    Instantiates the Generator architecture and loads the saved weights.\n",
    "    (Assumes the Generator class is defined exactly as used during training.)\n",
    "    \"\"\"\n",
    "    generator = Generator().to(device)\n",
    "    \n",
    "    # Load the state dict\n",
    "    state_dict = torch.load(checkpoint_path, map_location=device)\n",
    "    # If your state dict keys have a prefix (e.g. \"_orig_mod.\"), remove it:\n",
    "    new_state_dict = {}\n",
    "    for key, value in state_dict.items():\n",
    "        if key.startswith(\"_orig_mod.\"):\n",
    "            new_key = key[len(\"_orig_mod.\"):]\n",
    "        else:\n",
    "            new_key = key\n",
    "        new_state_dict[new_key] = value\n",
    "    generator.load_state_dict(new_state_dict)\n",
    "    generator.eval()\n",
    "    print(f\"Loaded generator weights from {checkpoint_path}\")\n",
    "    return generator\n",
    "\n",
    "# ---------------------- SI-SNR Evaluation ---------------------- #\n",
    "# def evaluate_si_snr_torch(original, reconstructed, eps=1e-8):\n",
    "#     \"\"\"\n",
    "#     Computes the scale-invariant SNR (in dB) between original and reconstructed signals.\n",
    "#     Assumes input shapes are (B, 1, T) or (B, T).\n",
    "#     \"\"\"\n",
    "#     if original.dim() == 3:\n",
    "#         original = original.squeeze(1)\n",
    "#     if reconstructed.dim() == 3:\n",
    "#         reconstructed = reconstructed.squeeze(1)\n",
    "    \n",
    "#     original_zm = original - original.mean(dim=1, keepdim=True)\n",
    "#     recon_zm = reconstructed - reconstructed.mean(dim=1, keepdim=True)\n",
    "    \n",
    "#     dot = (original_zm * recon_zm).sum(dim=1, keepdim=True)\n",
    "#     norm_sq = (original_zm ** 2).sum(dim=1, keepdim=True) + eps\n",
    "#     alpha = dot / norm_sq\n",
    "#     s_target = alpha * original_zm\n",
    "#     e_noise = recon_zm - s_target\n",
    "#     si_snr_val = 10 * torch.log10((s_target ** 2).sum(dim=1) / ((e_noise ** 2).sum(dim=1) + eps))\n",
    "#     return si_snr_val\n",
    "\n",
    "# ---------------------- Long Audio Watermarking ---------------------- #\n",
    "def watermark_long_audio_file(\n",
    "    generator,\n",
    "    input_wav_path,\n",
    "    output_wav_path,\n",
    "    device,\n",
    "    sample_rate=SAMPLE_RATE,\n",
    "    chunk_size=16000,\n",
    "    compute_si_snr=True\n",
    "):\n",
    "    \"\"\"\n",
    "    Processes an audio file of any length by splitting it into 1-second chunks,\n",
    "    watermarks each chunk using the generator, and then concatenates the watermarked\n",
    "    chunks into one full-length audio file which is then saved to output_wav_path.\n",
    "    \n",
    "    If the final chunk is shorter than 1 second, it is padded for processing and then trimmed.\n",
    "    \n",
    "    Returns:\n",
    "        original_full (torch.Tensor): full original waveform (1, total_samples)\n",
    "        watermarked_full (torch.Tensor): full watermarked waveform (1, total_samples)\n",
    "        si_snr_value (float): SI-SNR value for the entire file if compute_si_snr is True; else None.\n",
    "    \"\"\"\n",
    "    waveform, sr = torchaudio.load(input_wav_path) \n",
    "    if waveform.shape[0] > 1:\n",
    "        waveform = waveform.mean(dim=0, keepdim=True) \n",
    "    if sr != sample_rate:\n",
    "        resampler = torchaudio.transforms.Resample(orig_freq=sr, new_freq=sample_rate)\n",
    "        waveform = resampler(waveform)\n",
    "    \n",
    "    original_full = waveform.clone()\n",
    "    num_samples = waveform.shape[1]\n",
    "    watermarked_full = torch.zeros_like(waveform)\n",
    "    \n",
    "    generator.eval()\n",
    "    start = 0\n",
    "    while start < num_samples:\n",
    "        end = start + chunk_size\n",
    "        chunk = waveform[:, start:end] \n",
    "        current_chunk_len = chunk.shape[1]\n",
    "        \n",
    "        if current_chunk_len < chunk_size:\n",
    "            pad_amt = chunk_size - current_chunk_len\n",
    "            chunk = F.pad(chunk, (0, pad_amt))\n",
    "        \n",
    "        chunk_input = chunk.unsqueeze(0).to(device)\n",
    "        with torch.no_grad():\n",
    "            delta = generator(chunk_input)        \n",
    "            chunk_wm = chunk_input + delta   \n",
    "        \n",
    "        chunk_wm = chunk_wm.squeeze(0).cpu() \n",
    "        if current_chunk_len < chunk_size:\n",
    "            chunk_wm = chunk_wm[:, :current_chunk_len]\n",
    "        \n",
    "        watermarked_full[:, start:start+current_chunk_len] = chunk_wm\n",
    "        start = end\n",
    "    \n",
    "    torchaudio.save(output_wav_path, watermarked_full, sample_rate=sample_rate)\n",
    "    print(f\"Watermarked audio saved to: {output_wav_path}\")\n",
    "    \n",
    "    si_snr_value = None\n",
    "    if compute_si_snr:\n",
    "        orig_batched = original_full.unsqueeze(0)  #\n",
    "        wm_batched = watermarked_full.unsqueeze(0)   \n",
    "        si_snr_tensor = evaluate_si_snr_torch(orig_batched, wm_batched)\n",
    "        si_snr_value = si_snr_tensor.item()\n",
    "        print(f\"SI-SNR for entire file: {si_snr_value:.2f} dB\")\n",
    "    \n",
    "    return original_full, watermarked_full, si_snr_value\n",
    "\n",
    "# ---------------------- Main Inference ---------------------- #\n",
    "if __name__ == \"__main__\":\n",
    "    generator_checkpoint = \"generator.pth\" \n",
    "    generator = load_pretrained_generator(generator_checkpoint)\n",
    "    \n",
    "   \n",
    "    watermarked_dir = \"watermarked\"\n",
    "    os.makedirs(watermarked_dir, exist_ok=True)\n",
    "\n",
    "    test_files = [\n",
    "        \"data/raw_audios/en/2018/20180115-0900-PLENARY-7_en.ogg\",\n",
    "        \"data/raw_audios/en/2018/20180117-0900-PLENARY-14_en.ogg\",\n",
    "        \"data/raw_audios/en/2018/20180117-0900-PLENARY-13_en.ogg\",\n",
    "        \"data/raw_audios/en/2018/20180117-0900-PLENARY-12_en.ogg\",\n",
    "        \"data/raw_audios/en/2018/20180116-0900-PLENARY-12_en.ogg\"\n",
    "        # Add more files if needed\n",
    "    ]\n",
    "    \n",
    "    for in_wav in test_files:\n",
    "        base_name = os.path.basename(in_wav)\n",
    "        name, ext = os.path.splitext(base_name)\n",
    "        out_wav = os.path.join(watermarked_dir, f\"{name}_watermarked{ext}\")\n",
    "        \n",
    "        original, watermarked, si_snr_val = watermark_long_audio_file(\n",
    "            generator=generator,\n",
    "            input_wav_path=in_wav,\n",
    "            output_wav_path=out_wav,\n",
    "            device=device,\n",
    "            sample_rate=SAMPLE_RATE,\n",
    "            chunk_size=AUDIO_LEN,\n",
    "            compute_si_snr=True\n",
    "        )\n",
    "        print(f\"Processed {in_wav} -> {out_wav} with SI-SNR: {si_snr_val:.2f} dB\")\n",
    "    \n",
    "    print(f\"Done generating watermarked audio. Check the '{watermarked_dir}' directory.\")\n"
   ]
  },
  {
   "cell_type": "code",
   "execution_count": 16,
   "metadata": {},
   "outputs": [
    {
     "name": "stdout",
     "output_type": "stream",
     "text": [
      "File not found: data/raw_audio/en/2018/20180116-0900-PLENARY-12_en.ogg\n"
     ]
    }
   ],
   "source": [
    "import os\n",
    "file_path = \"data/raw_audio/en/2018/20180116-0900-PLENARY-12_en.ogg\"\n",
    "if not os.path.exists(file_path):\n",
    "    print(f\"File not found: {file_path}\")\n",
    "else:\n",
    "    print(f\"File exists: {file_path}\")\n"
   ]
  },
  {
   "cell_type": "code",
   "execution_count": null,
   "metadata": {},
   "outputs": [],
   "source": []
  }
 ],
 "metadata": {
  "kernelspec": {
   "display_name": "Python 3",
   "language": "python",
   "name": "python3"
  },
  "language_info": {
   "codemirror_mode": {
    "name": "ipython",
    "version": 3
   },
   "file_extension": ".py",
   "mimetype": "text/x-python",
   "name": "python",
   "nbconvert_exporter": "python",
   "pygments_lexer": "ipython3",
   "version": "3.10.12"
  }
 },
 "nbformat": 4,
 "nbformat_minor": 2
}
